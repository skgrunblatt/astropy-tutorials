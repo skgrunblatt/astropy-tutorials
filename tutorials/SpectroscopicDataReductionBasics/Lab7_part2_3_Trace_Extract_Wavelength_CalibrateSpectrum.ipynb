{
  "cells": [
    {
      "cell_type": "markdown",
      "metadata": {
        "id": "nENDfVUM2hPy"
      },
      "source": [
        "# Spectroscopic Data Reduction Part 3: Extracting the final wavelength-calibrated spectrum\n",
        "\n",
        "This tutorial assumes you have gone through the [Trace](1-SpectroscopicTraceTutorial.ipynb) and [Wavelength Calibration](2-WavelengthCalibration) tutorials and have their results available.\n",
        "\n",
        "## Authors\n",
        "Adam Ginsburg, Kelle Cruz, Lia Corrales, Jonathan Sick, Adrian Price-Whelan, and Sam Grunblatt\n",
        "\n",
        "## Learning Goals\n",
        "* Extract a target 1D spectrum from a two-dimensional spectrum using an existing trace\n",
        "* Apply a fitted wavelength solution to the data\n",
        "* Fit a line profile to the wavelength-calibrated spectrum\n",
        "\n",
        "## Keywords\n",
        "Spectroscopy\n",
        "\n",
        "## Summary\n",
        "This tutorial, the third in a series, shows how to apply a trace and a wavelength solution to science data.  It then shows how to do basic analysis, i.e., line fitting."
      ]
    },
    {
      "cell_type": "code",
      "execution_count": null,
      "metadata": {
        "id": "SOJSEEha2hP0"
      },
      "outputs": [],
      "source": [
        "import requests\n",
        "\n",
        "url = 'https://raw.githubusercontent.com/skgrunblatt/astropy-tutorials/main/tutorials/SpectroscopicDataReductionBasics/requirements.txt'\n",
        "response = requests.get(url)\n",
        "\n",
        "if response.status_code == 200:\n",
        "    print(f\"Required packages for this notebook:\\n{response.text}\")\n",
        "else:\n",
        "    print(\"Failed to retrieve the file.\")"
      ]
    },
    {
      "cell_type": "markdown",
      "metadata": {
        "id": "U0XzSRzy2hP0"
      },
      "source": [
        "## Extract the science spectrum\n",
        "\n",
        "First, we repeat the trace-and-extract process derived in [Part 1](1-SpectroscopicTraceTutorial.ipynb), but now for Deneb:"
      ]
    },
    {
      "cell_type": "code",
      "execution_count": null,
      "metadata": {
        "id": "5CN02P0R2hP1"
      },
      "outputs": [],
      "source": [
        "from PIL import Image as PILImage\n",
        "import numpy as np\n",
        "import matplotlib.pyplot as plt\n",
        "plt.style.use('dark_background')"
      ]
    },
    {
      "cell_type": "code",
      "execution_count": null,
      "metadata": {
        "id": "cwTMwmqo2hP1"
      },
      "outputs": [],
      "source": [
        "from astropy.modeling.models import Linear1D\n",
        "from astropy import constants\n",
        "from astropy import units as u\n",
        "from astropy.visualization import quantity_support\n",
        "quantity_support()"
      ]
    },
    {
      "cell_type": "code",
      "execution_count": null,
      "metadata": {
        "id": "9KP8LZKQ2hP1"
      },
      "outputs": [],
      "source": [
        "from io import BytesIO\n",
        "import requests\n",
        "import numpy as np\n",
        "\n",
        "# example for a FITS image (uncomment this for final part of lab):\n",
        "from astropy.io import fits\n",
        "url = \"https://raw.githubusercontent.com/skgrunblatt/astropy-tutorials/main/tutorials/SpectroscopicDataReductionBasics/betel6.fits\"\n",
        "\n",
        "# Fetch the image data from the URL\n",
        "response = requests.get(url)\n",
        "\n",
        "# Check if the request was successful\n",
        "if response.status_code == 200:\n",
        "    # Create a file-like object from the response content\n",
        "    image_array_2 = fits.open(BytesIO(response.content))[0].data\n",
        "    print(\"Image loaded successfully!\")\n",
        "else:\n",
        "    print(\"Failed to retrieve the image.\")\n",
        "print(image_array_2.shape)"
      ]
    },
    {
      "cell_type": "code",
      "execution_count": null,
      "metadata": {
        "id": "PH_iQc4A2hP1"
      },
      "outputs": [],
      "source": [
        "from astropy.modeling.polynomial import Polynomial1D\n",
        "from astropy.modeling.models import Gaussian1D\n",
        "from astropy.modeling.fitting import LevMarLSQFitter, LinearLSQFitter\n",
        "linfitter = LinearLSQFitter()"
      ]
    },
    {
      "cell_type": "code",
      "source": [
        "print(xvals.shape)\n",
        "print(yaxis2.shape)"
      ],
      "metadata": {
        "id": "nvVu2q8PfZ_-"
      },
      "execution_count": null,
      "outputs": []
    },
    {
      "cell_type": "code",
      "execution_count": null,
      "metadata": {
        "id": "xkRz5_YJ2hP1"
      },
      "outputs": [],
      "source": [
        "yaxis2 = np.repeat(np.arange(40, 80)[:,None], image_array_2.shape[1], axis=1)\n",
        "xvals = np.arange(image_array_2.shape[1])\n",
        "weighted_yaxis_values2 = np.average(yaxis2, axis=0, weights=image_array_2[40:80,:] - np.median(image_array_2))\n",
        "polymodel2 = Polynomial1D(degree=3)\n",
        "fitted_polymodel2 = linfitter(polymodel2, xvals, weighted_yaxis_values2)\n",
        "trace_center2 = fitted_polymodel2(xvals)"
      ]
    },
    {
      "cell_type": "code",
      "execution_count": null,
      "metadata": {
        "id": "Q2uvHGpz2hP1"
      },
      "outputs": [],
      "source": [
        "npixels_to_cut = 15\n",
        "trace_center = fitted_polymodel2(xvals)\n",
        "cutouts = np.array([image_array_2[int(yval)-npixels_to_cut:int(yval)+npixels_to_cut, ii]\n",
        "                    for yval, ii in zip(trace_center, xvals)])\n",
        "cutouts.shape\n",
        "mean_trace_profile = cutouts.mean(axis=0)"
      ]
    },
    {
      "cell_type": "code",
      "execution_count": null,
      "metadata": {
        "id": "BuUB8_qQ2hP1"
      },
      "outputs": [],
      "source": [
        "spectrum2 = np.array([np.average(image_array_2[int(yval)-npixels_to_cut:int(yval)+npixels_to_cut, ii],\n",
        "                                weights=mean_trace_profile)\n",
        "                     for yval, ii in zip(trace_center2, xvals)])"
      ]
    },
    {
      "cell_type": "markdown",
      "metadata": {
        "id": "JYM4ywdO2hP1"
      },
      "source": [
        "Next, we retrieve the wavelength solution derived in Part 2."
      ]
    },
    {
      "cell_type": "code",
      "execution_count": null,
      "metadata": {
        "id": "JUqKAA5h2hP2"
      },
      "outputs": [],
      "source": [
        "from astropy import units as u\n",
        "from astropy.modeling.polynomial import Polynomial1D\n",
        "from astropy.modeling.models import Gaussian1D, Linear1D\n",
        "from astropy.modeling.fitting import LinearLSQFitter\n",
        "from IPython.display import Image\n",
        "# astroquery provides an interface to the NIST atomic line database\n",
        "# from astroquery.nist import Nist\n",
        "\n",
        "wlmodel = Linear1D(slope=-0.45128449, intercept=701.91734074)#Linear1D(slope=-0.10213643, intercept=562.3862495)\n",
        "# Linear1D(slope=-0.45128449, intercept=701.91734074)>"
      ]
    },
    {
      "cell_type": "code",
      "execution_count": null,
      "metadata": {
        "id": "1czsRoGW2hP2"
      },
      "outputs": [],
      "source": [
        "wavelengths = wlmodel(xvals) * u.nm"
      ]
    },
    {
      "cell_type": "code",
      "execution_count": null,
      "metadata": {
        "id": "FEGA2vU02hP2"
      },
      "outputs": [],
      "source": [
        "import matplotlib.pyplot as plt\n",
        "plt.plot(wavelengths, spectrum2)\n",
        "plt.xlabel('Wavelength (nm)')\n",
        "plt.ylabel('Flux (arbitary units)')"
      ]
    }
  ],
  "metadata": {
    "language_info": {
      "name": "python"
    },
    "colab": {
      "provenance": []
    },
    "kernelspec": {
      "name": "python3",
      "display_name": "Python 3"
    }
  },
  "nbformat": 4,
  "nbformat_minor": 0
}