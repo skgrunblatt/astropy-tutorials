{
  "cells": [
    {
      "cell_type": "markdown",
      "metadata": {
        "id": "UeKS063Ny_1m"
      },
      "source": [
        "# Spectroscopic Data Reduction Part 2: Wavelength Calibration\n",
        "\n",
        "This notebook assumes you've completed the Spectroscopic Trace process (see [Part 1](1-SpectroscopicTraceTutorial.ipynb)) and have a trace model handy.\n",
        "\n",
        "## Authors\n",
        "Adam Ginsburg, Kelle Cruz, Lia Corrales, Jonathan Sick, Adrian Price-Whelan\n",
        "\n",
        "## Learning Goals\n",
        "* Extract calibration lamp spectra from two-dimensional spectral images\n",
        "* Fit a wavelength solution\n",
        "\n",
        "\n",
        "## Keywords\n",
        "Spectroscopy\n",
        "\n",
        "## Summary\n",
        "This tutorial will walk through extraction of a calibration lamp spectrum using an existing trace.\n",
        "\n",
        "It will then demonstrate line identification using the NIST line list database.\n",
        "\n",
        "Finally, it will show how to fit a wavelength solution to a calibration spectrum, integrating information from multiple calibration lamps."
      ]
    },
    {
      "cell_type": "code",
      "execution_count": 1,
      "metadata": {
        "id": "9fYGBk2vy_1o",
        "outputId": "d08cbc42-6a80-4934-97a7-d414d427134a",
        "colab": {
          "base_uri": "https://localhost:8080/"
        }
      },
      "outputs": [
        {
          "output_type": "stream",
          "name": "stdout",
          "text": [
            "Required packages for this notebook:\n",
            "astropy\n",
            "astroquery>=0.4.8.dev9474  # 2024-09-24 pinned for Gaia column capitalization issue\n",
            "IPython\n",
            "numpy\n",
            "pillow\n",
            "matplotlib\n",
            "\n"
          ]
        }
      ],
      "source": [
        "import requests\n",
        "\n",
        "url = 'https://raw.githubusercontent.com/skgrunblatt/astropy-tutorials/main/tutorials/SpectroscopicDataReductionBasics/requirements.txt'\n",
        "response = requests.get(url)\n",
        "\n",
        "if response.status_code == 200:\n",
        "    print(f\"Required packages for this notebook:\\n{response.text}\")\n",
        "else:\n",
        "    print(\"Failed to retrieve the file.\")"
      ]
    },
    {
      "cell_type": "code",
      "source": [
        "!pip install astroquery"
      ],
      "metadata": {
        "id": "TqvWwPVxzca0",
        "outputId": "f044eed4-7c2e-4110-b3c0-8e9a02773e50",
        "colab": {
          "base_uri": "https://localhost:8080/"
        }
      },
      "execution_count": 6,
      "outputs": [
        {
          "output_type": "stream",
          "name": "stdout",
          "text": [
            "Collecting astroquery\n",
            "  Downloading astroquery-0.4.7-py3-none-any.whl.metadata (7.2 kB)\n",
            "Requirement already satisfied: numpy>=1.18 in /usr/local/lib/python3.10/dist-packages (from astroquery) (1.26.4)\n",
            "Requirement already satisfied: astropy>=4.2.1 in /usr/local/lib/python3.10/dist-packages (from astroquery) (6.1.4)\n",
            "Requirement already satisfied: requests>=2.19 in /usr/local/lib/python3.10/dist-packages (from astroquery) (2.32.3)\n",
            "Requirement already satisfied: beautifulsoup4>=4.8 in /usr/local/lib/python3.10/dist-packages (from astroquery) (4.12.3)\n",
            "Requirement already satisfied: html5lib>=0.999 in /usr/local/lib/python3.10/dist-packages (from astroquery) (1.1)\n",
            "Requirement already satisfied: keyring>=15.0 in /usr/lib/python3/dist-packages (from astroquery) (23.5.0)\n",
            "Collecting pyvo>=1.1 (from astroquery)\n",
            "  Downloading pyvo-1.5.3-py3-none-any.whl.metadata (4.7 kB)\n",
            "Requirement already satisfied: pyerfa>=2.0.1.1 in /usr/local/lib/python3.10/dist-packages (from astropy>=4.2.1->astroquery) (2.0.1.4)\n",
            "Requirement already satisfied: astropy-iers-data>=0.2024.8.27.10.28.29 in /usr/local/lib/python3.10/dist-packages (from astropy>=4.2.1->astroquery) (0.2024.10.21.0.33.21)\n",
            "Requirement already satisfied: PyYAML>=3.13 in /usr/local/lib/python3.10/dist-packages (from astropy>=4.2.1->astroquery) (6.0.2)\n",
            "Requirement already satisfied: packaging>=19.0 in /usr/local/lib/python3.10/dist-packages (from astropy>=4.2.1->astroquery) (24.1)\n",
            "Requirement already satisfied: soupsieve>1.2 in /usr/local/lib/python3.10/dist-packages (from beautifulsoup4>=4.8->astroquery) (2.6)\n",
            "Requirement already satisfied: six>=1.9 in /usr/local/lib/python3.10/dist-packages (from html5lib>=0.999->astroquery) (1.16.0)\n",
            "Requirement already satisfied: webencodings in /usr/local/lib/python3.10/dist-packages (from html5lib>=0.999->astroquery) (0.5.1)\n",
            "Requirement already satisfied: charset-normalizer<4,>=2 in /usr/local/lib/python3.10/dist-packages (from requests>=2.19->astroquery) (3.4.0)\n",
            "Requirement already satisfied: idna<4,>=2.5 in /usr/local/lib/python3.10/dist-packages (from requests>=2.19->astroquery) (3.10)\n",
            "Requirement already satisfied: urllib3<3,>=1.21.1 in /usr/local/lib/python3.10/dist-packages (from requests>=2.19->astroquery) (2.2.3)\n",
            "Requirement already satisfied: certifi>=2017.4.17 in /usr/local/lib/python3.10/dist-packages (from requests>=2.19->astroquery) (2024.8.30)\n",
            "Downloading astroquery-0.4.7-py3-none-any.whl (5.3 MB)\n",
            "\u001b[2K   \u001b[90m━━━━━━━━━━━━━━━━━━━━━━━━━━━━━━━━━━━━━━━━\u001b[0m \u001b[32m5.3/5.3 MB\u001b[0m \u001b[31m31.8 MB/s\u001b[0m eta \u001b[36m0:00:00\u001b[0m\n",
            "\u001b[?25hDownloading pyvo-1.5.3-py3-none-any.whl (912 kB)\n",
            "\u001b[2K   \u001b[90m━━━━━━━━━━━━━━━━━━━━━━━━━━━━━━━━━━━━━━━━\u001b[0m \u001b[32m912.9/912.9 kB\u001b[0m \u001b[31m14.9 MB/s\u001b[0m eta \u001b[36m0:00:00\u001b[0m\n",
            "\u001b[?25hInstalling collected packages: pyvo, astroquery\n",
            "Successfully installed astroquery-0.4.7 pyvo-1.5.3\n"
          ]
        }
      ]
    },
    {
      "cell_type": "code",
      "execution_count": 7,
      "metadata": {
        "id": "ur72qIzBy_1o"
      },
      "outputs": [],
      "source": [
        "from astropy import units as u\n",
        "from astropy.modeling.polynomial import Polynomial1D\n",
        "from astropy.modeling.models import Gaussian1D, Linear1D\n",
        "from astropy.modeling.fitting import LinearLSQFitter\n",
        "from IPython.display import Image\n",
        "# astroquery provides an interface to the NIST atomic line database\n",
        "from astroquery.nist import Nist"
      ]
    },
    {
      "cell_type": "code",
      "execution_count": 11,
      "metadata": {
        "id": "NvBjCQRqy_1o"
      },
      "outputs": [],
      "source": [
        "from PIL import Image as PILImage\n",
        "import numpy as np\n",
        "import matplotlib.pyplot as plt\n",
        "plt.rcParams['image.origin'] = 'lower'  # we want to show images, not matrices, so we set the origin to the lower-left\n",
        "plt.style.use('dark_background')  # Optional configuration: if run, this will look nice on dark background notebooks"
      ]
    },
    {
      "cell_type": "markdown",
      "metadata": {
        "id": "mw6C4ocQy_1o"
      },
      "source": [
        "We have three calibration lamp spectra: Mercury, Krypton, and Neon.  These are saved as .bmp (bitmap) files."
      ]
    },
    {
      "cell_type": "code",
      "execution_count": 12,
      "metadata": {
        "id": "2uGXxxNwy_1o"
      },
      "outputs": [],
      "source": [
        "e_filename = \"https://raw.githubusercontent.com/skgrunblatt/astropy-tutorials/main/tutorials/SpectroscopicDataReductionBasics/ne_lamp_1s.bmp\""
      ]
    },
    {
      "cell_type": "code",
      "execution_count": 14,
      "metadata": {
        "id": "sax5Mttvy_1p",
        "outputId": "33974524-ebbc-47da-f415-f1d776366357",
        "colab": {
          "base_uri": "https://localhost:8080/"
        }
      },
      "outputs": [
        {
          "output_type": "stream",
          "name": "stdout",
          "text": [
            "Image loaded successfully!\n",
            "Image loaded successfully!\n",
            "Image loaded successfully!\n"
          ]
        }
      ],
      "source": [
        "from io import BytesIO\n",
        "\n",
        "# URL of the image\n",
        "hg_filename = \"https://raw.githubusercontent.com/skgrunblatt/astropy-tutorials/main/tutorials/SpectroscopicDataReductionBasics/hg_lamp_1-sixteenth_s.bmp\"\n",
        "kr_filename = \"https://raw.githubusercontent.com/skgrunblatt/astropy-tutorials/main/tutorials/SpectroscopicDataReductionBasics/kr_lamp_p6.bmp\"\n",
        "ne_filename = \"https://raw.githubusercontent.com/skgrunblatt/astropy-tutorials/main/tutorials/SpectroscopicDataReductionBasics/ne_lamp_1s.bmp\"\n",
        "# Fetch the image data from the URL\n",
        "response1 = requests.get(hg_filename)\n",
        "response2 = requests.get(kr_filename)\n",
        "response3 = requests.get(ne_filename)\n",
        "\n",
        "# Check if the request was successful\n",
        "if response1.status_code == 200:\n",
        "    # Create a file-like object from the response content\n",
        "    hg_image = PILImage.open(BytesIO(response1.content))\n",
        "    print(\"Image loaded successfully!\")\n",
        "else:\n",
        "    print(\"Failed to retrieve the image.\")\n",
        "\n",
        "if response2.status_code == 200:\n",
        "    # Create a file-like object from the response content\n",
        "    kr_image = PILImage.open(BytesIO(response2.content))\n",
        "    print(\"Image loaded successfully!\")\n",
        "else:\n",
        "    print(\"Failed to retrieve the image.\")\n",
        "\n",
        "if response3.status_code == 200:\n",
        "    # Create a file-like object from the response content\n",
        "    ne_image = PILImage.open(BytesIO(response3.content))\n",
        "    print(\"Image loaded successfully!\")\n",
        "else:\n",
        "    print(\"Failed to retrieve the image.\")\n"
      ]
    },
    {
      "cell_type": "code",
      "execution_count": 15,
      "metadata": {
        "id": "A-grni6-y_1p",
        "outputId": "2f0e045c-849d-4538-a03e-1c25db5ee146",
        "colab": {
          "base_uri": "https://localhost:8080/",
          "height": 430
        }
      },
      "outputs": [
        {
          "output_type": "display_data",
          "data": {
            "text/plain": [
              "<Figure size 640x480 with 1 Axes>"
            ],
            "image/png": "[encoded data removed]"
          },
          "metadata": {}
        }
      ],
      "source": [
        "plt.imshow(hg_image);"
      ]
    },
    {
      "cell_type": "code",
      "execution_count": null,
      "metadata": {
        "id": "yk-e9hs2y_1p"
      },
      "outputs": [],
      "source": [
        "plt.imshow(kr_image);"
      ]
    },
    {
      "cell_type": "code",
      "execution_count": null,
      "metadata": {
        "id": "FEa0Q9Sty_1p"
      },
      "outputs": [],
      "source": [
        "plt.imshow(ne_image);"
      ]
    },
    {
      "cell_type": "markdown",
      "metadata": {
        "id": "8EEan7_Ey_1p"
      },
      "source": [
        "We can note by zooming in that there appear to be seven independent spectra:"
      ]
    },
    {
      "cell_type": "code",
      "execution_count": null,
      "metadata": {
        "id": "xmV_HuW8y_1p"
      },
      "outputs": [],
      "source": [
        "plt.imshow(hg_image[380:540,140:180]);"
      ]
    },
    {
      "cell_type": "markdown",
      "metadata": {
        "id": "-aVH6bngy_1p"
      },
      "source": [
        "We re-create our trace model from the [Spectroscopic Trace Tutorial](Spectroscopic%20Trace%20Tutorial.ipynb) using the fitted models.\n",
        "\n",
        "(We could have used the empirical trace directly, which might result in slightly improved noise characteristics, but for simplicity - and to make the two notebooks independently usable - we use the fitted polynomial & Gaussian models here)"
      ]
    },
    {
      "cell_type": "code",
      "execution_count": null,
      "metadata": {
        "id": "ojILFV-dy_1p"
      },
      "outputs": [],
      "source": [
        "trace_model = Polynomial1D(degree=3, c0=453.6307, c1=-0.01596396, c2=0.0000008259, c3=3.3348554642250357e-09)\n",
        "trace_profile_model = Gaussian1D(amplitude=123.84846797, mean=0.17719819, stddev=5.10872134)\n",
        "xaxis = np.arange(hg_image.shape[1])\n",
        "trace_center = trace_model(xaxis)\n",
        "npixels_to_cut=15\n",
        "yaxis = np.arange(-npixels_to_cut, npixels_to_cut)\n",
        "model_trace_profile = trace_profile_model(yaxis)"
      ]
    },
    {
      "cell_type": "markdown",
      "metadata": {
        "id": "xkLdjxYwy_1p"
      },
      "source": [
        "Then, we use the trace to extract spectra from each of the three calibration lamp spectra.\n",
        "\n",
        "We verify that the traces look acceptable first, though:"
      ]
    },
    {
      "cell_type": "code",
      "execution_count": null,
      "metadata": {
        "id": "PqQW-rApy_1p"
      },
      "outputs": [],
      "source": [
        "plt.figure(figsize=(16,8))\n",
        "ax1 = plt.subplot(3,1,1)\n",
        "ax1.imshow(hg_image[430:470,:], extent=[0,1600,430,470])\n",
        "ax1.plot(xaxis, trace_center)\n",
        "ax1.set_aspect(10)\n",
        "ax2 = plt.subplot(3,1,2)\n",
        "ax2.imshow(kr_image[430:470,:], extent=[0,1600,430,470])\n",
        "ax2.plot(xaxis, trace_center)\n",
        "ax2.set_aspect(10)\n",
        "ax3 = plt.subplot(3,1,3)\n",
        "ax3.imshow(ne_image[430:470,:], extent=[0,1600,430,470])\n",
        "ax3.plot(xaxis, trace_center)\n",
        "ax3.set_aspect(10)"
      ]
    },
    {
      "cell_type": "markdown",
      "metadata": {
        "id": "9rN4d0ory_1q"
      },
      "source": [
        "Strangely, the trace looks like it's going through a minimum between the individual spectra, which may indicate that the spectrograph was shaken or jiggled between the trace and wavelength calibration observations.  Nevertheless, there's enough signal that we can extract a calibration lamp spectrum, and the trace is perpendicular enough to the dispersion axis that we can mostly trust it."
      ]
    },
    {
      "cell_type": "markdown",
      "metadata": {
        "id": "_6jCYmRUy_1q"
      },
      "source": [
        "In the following three cells, we extract the trace-profile-weighted average spectrum from each of the three calibration lamps.  \n",
        "\n",
        "``npixels_to_cut`` sets a cutout region around the trace, close to what is shown in the figures above.  The ``model_trace_profile``, derived earlier, is the transmission profile we measured using the stellar trace.  "
      ]
    },
    {
      "cell_type": "code",
      "execution_count": null,
      "metadata": {
        "id": "dQ8ge_fVy_1q"
      },
      "outputs": [],
      "source": [
        "hg_spectrum = np.array([np.average(hg_image[int(yval)-npixels_to_cut:int(yval)+npixels_to_cut, ii],\n",
        "                                weights=model_trace_profile)\n",
        "                     for yval, ii in zip(trace_center, xaxis)])"
      ]
    },
    {
      "cell_type": "code",
      "execution_count": null,
      "metadata": {
        "id": "er0vPJZxy_1q"
      },
      "outputs": [],
      "source": [
        "ne_spectrum = np.array([np.average(ne_image[int(yval)-npixels_to_cut:int(yval)+npixels_to_cut, ii],\n",
        "                                weights=model_trace_profile)\n",
        "                     for yval, ii in zip(trace_center, xaxis)])"
      ]
    },
    {
      "cell_type": "code",
      "execution_count": null,
      "metadata": {
        "id": "E7_qlAUPy_1q"
      },
      "outputs": [],
      "source": [
        "kr_spectrum = np.array([np.average(kr_image[int(yval)-npixels_to_cut:int(yval)+npixels_to_cut, ii],\n",
        "                                weights=model_trace_profile)\n",
        "                     for yval, ii in zip(trace_center, xaxis)])"
      ]
    },
    {
      "cell_type": "code",
      "execution_count": null,
      "metadata": {
        "id": "UBCSJXTgy_1q"
      },
      "outputs": [],
      "source": [
        "plt.plot(xaxis, hg_spectrum, label='Mercury')\n",
        "plt.plot(xaxis, ne_spectrum, label='Neon')\n",
        "plt.plot(xaxis, kr_spectrum, label='Krypton')\n",
        "plt.legend(loc='best');"
      ]
    },
    {
      "cell_type": "markdown",
      "metadata": {
        "id": "j83xipq5y_1q"
      },
      "source": [
        "We now have spectra of a mercury lamp, a neon lamp, and a krypton lamp.\n",
        "\n",
        "If we have no prior knowledge, we would have to do some guess-and-check.  It helps to do _educated_ guess-and-check, though; wikipedia is a decent resource to point us at the right line lists:\n",
        "\n",
        " * https://en.wikipedia.org/wiki/Mercury-vapor_lamp#Emission_line_spectrum\n",
        " * https://en.wikipedia.org/wiki/Gas-discharge_lamp#Color"
      ]
    },
    {
      "cell_type": "code",
      "execution_count": null,
      "metadata": {
        "id": "pCbsqjUQy_1q"
      },
      "outputs": [],
      "source": [
        "Image(\"https://upload.wikimedia.org/wikipedia/commons/2/29/Mercury_Spectra.jpg\")"
      ]
    },
    {
      "cell_type": "code",
      "execution_count": null,
      "metadata": {
        "id": "_Q-gMGjAy_1q"
      },
      "outputs": [],
      "source": [
        "Image(\"https://upload.wikimedia.org/wikipedia/commons/9/99/Neon_spectra.jpg\")"
      ]
    },
    {
      "cell_type": "code",
      "execution_count": null,
      "metadata": {
        "id": "D5zdc0UJy_1q"
      },
      "outputs": [],
      "source": [
        "Image(\"https://upload.wikimedia.org/wikipedia/commons/a/a6/Krypton_Spectrum.jpg\")"
      ]
    },
    {
      "cell_type": "markdown",
      "metadata": {
        "id": "_ofpMl1dy_1q"
      },
      "source": [
        "Start with mercury.  We use a different wikipedia spectrum that looks a little more like ours to guide the eye (note that the line ratios vary from lamp to lamp at least partly because each lamp contains gas at a different pressure)."
      ]
    },
    {
      "cell_type": "code",
      "execution_count": null,
      "metadata": {
        "id": "O33_23ysy_1q"
      },
      "outputs": [],
      "source": [
        "Image(\"https://upload.wikimedia.org/wikipedia/commons/0/0d/HG-Spektrum_crop.jpg\")"
      ]
    },
    {
      "cell_type": "markdown",
      "metadata": {
        "id": "UqTZDPPry_1q"
      },
      "source": [
        "The optical lines of Mercury are, from Wikipedia, in Angstroms:\n",
        "\n",
        " * 4047 violet\n",
        " * 4358 blue\n",
        " * 5461 green\n",
        " * 5782 yellow-orange\n",
        " * 6500 red"
      ]
    },
    {
      "cell_type": "code",
      "execution_count": null,
      "metadata": {
        "id": "--Bd2wUNy_1q"
      },
      "outputs": [],
      "source": [
        "plt.plot(xaxis, hg_spectrum);"
      ]
    },
    {
      "cell_type": "markdown",
      "metadata": {
        "id": "xqUj5vrNy_1q"
      },
      "source": [
        "At this next step, we have to write down which (approximate) pixel values correspond to known wavelengths.\n",
        "\n",
        "Guessing these just by looking at the spectra and comparing to spectral atlases is hard and takes experience.\n",
        "\n",
        "If you have spectra taken with the same setup of a known sources - such as an A0 star - you might be able to use that to give you a 'prior' on where the spectrum is centered.\n",
        "In this case, our set of spectra include Deneb, which is an A-star.  It has a clear absorption line (that we'll see later, in tutorial 3) around pixel 750.\n",
        "A-stars have deep hydrogen absorption lines in their atmosphere and little else, so this is probably a hydrogen line.\n",
        "We can assume it's either H-alpha or H-beta, since they are both in the optical and strong (higher lines, like H-delta, are all close together, so if it were one of them, we'd expect to see several adjacent lines).\n",
        "\n",
        "We can therefore compare our spectrum to the atlases assuming pixel 750 is H-beta or H-alpha.  Using the line list, we can see red is pretty unlikely: H-alpha is at 6563, so there would be a line right next to it.  If it's H-beta, there are lines on either side, and there is a doublet on the right side.  \n",
        "\n",
        "The next trick is figuring out which way the wavelength increases - to the left or the right?  Mercury doesn't help with that, since the blue-violet and green-yellow doublets are about the same distance from one another.  It turns out, from guess-and-check work, that wavelength is increasing to the left.\n",
        "\n",
        "Again, this part is hard to do directly from the data - you generally hope to have a pretty good idea of what wavelength you're observing before you observe!"
      ]
    },
    {
      "cell_type": "code",
      "execution_count": null,
      "metadata": {
        "id": "jI6ce-gVy_1q"
      },
      "outputs": [],
      "source": [
        "guessed_wavelengths = [546.1, 435.8, 404.7]\n",
        "guessed_xvals = [165, 1230, 1550]"
      ]
    },
    {
      "cell_type": "markdown",
      "metadata": {
        "id": "Et7GQDtEy_1q"
      },
      "source": [
        "## Improving on our guesses\n",
        "\n",
        "We can do a lot better at determining the pixel X-values by taking the intensity-weighted coordinate (moment 1):"
      ]
    },
    {
      "cell_type": "code",
      "execution_count": null,
      "metadata": {
        "id": "yxD07c_Iy_1q"
      },
      "outputs": [],
      "source": [
        "npixels = 15\n",
        "improved_xval_guesses = [np.average(xaxis[g-npixels:g+npixels],\n",
        "                                    weights=hg_spectrum[g-npixels:g+npixels] - np.median(hg_spectrum))\n",
        "                         for g in guessed_xvals]\n",
        "improved_xval_guesses"
      ]
    },
    {
      "cell_type": "code",
      "execution_count": null,
      "metadata": {
        "id": "e1hQVu_6y_1q"
      },
      "outputs": [],
      "source": [
        "plt.plot(xaxis, hg_spectrum)\n",
        "plt.plot(guessed_xvals, [100]*3, 'x')\n",
        "plt.plot(improved_xval_guesses, [100]*3, '+');"
      ]
    },
    {
      "cell_type": "markdown",
      "metadata": {
        "id": "apEgbKkSy_1q"
      },
      "source": [
        "We only have three data points, but that is enough to fit a linear model and still have a free point to check that we got it close to right:"
      ]
    },
    {
      "cell_type": "code",
      "execution_count": null,
      "metadata": {
        "id": "JRJ47SXsy_1q"
      },
      "outputs": [],
      "source": [
        "linfitter = LinearLSQFitter()"
      ]
    },
    {
      "cell_type": "markdown",
      "metadata": {
        "id": "L1xUoi4Jy_1q"
      },
      "source": [
        "We use a `Linear1D` model because we will want to use its inverse later (other models are not invertible)"
      ]
    },
    {
      "cell_type": "code",
      "execution_count": null,
      "metadata": {
        "id": "259XNaeRy_1q"
      },
      "outputs": [],
      "source": [
        "wlmodel = Linear1D()\n",
        "linfit_wlmodel = linfitter(model=wlmodel, x=improved_xval_guesses, y=guessed_wavelengths)\n",
        "wavelengths = linfit_wlmodel(xaxis) * u.nm\n",
        "linfit_wlmodel"
      ]
    },
    {
      "cell_type": "markdown",
      "metadata": {
        "id": "aThnIWkVy_1t"
      },
      "source": [
        "Note this fitted slope: each pixel is about 0.1 nm (about 1 angstrom), and the wavelength increases to the left."
      ]
    },
    {
      "cell_type": "code",
      "execution_count": null,
      "metadata": {
        "id": "X6mpy-EUy_1t"
      },
      "outputs": [],
      "source": [
        "plt.plot(wavelengths, hg_spectrum)\n",
        "plt.plot(guessed_wavelengths, [100]*3, 'x');"
      ]
    },
    {
      "cell_type": "markdown",
      "metadata": {
        "id": "uLw2urVUy_1t"
      },
      "source": [
        "We show our model $\\lambda(x)$ vs the input \"guesses\":"
      ]
    },
    {
      "cell_type": "code",
      "execution_count": null,
      "metadata": {
        "id": "8fXHaayWy_1t"
      },
      "outputs": [],
      "source": [
        "plt.plot(improved_xval_guesses, guessed_wavelengths, 'o')\n",
        "plt.plot(xaxis, wavelengths, '-')\n",
        "plt.ylabel(\"$\\lambda(x)$\")\n",
        "plt.xlabel(\"x (pixels)\")"
      ]
    },
    {
      "cell_type": "markdown",
      "metadata": {
        "id": "NNa4nXM0y_1t"
      },
      "source": [
        "Indeed, a linear model fit excellently!"
      ]
    },
    {
      "cell_type": "markdown",
      "metadata": {
        "id": "gpVhqmGty_1t"
      },
      "source": [
        "We can look up neon and krypton line lists to see how well we did and maybe try to improve our fit.\n",
        "\n",
        "NIST, the National Institute of Standards and Technology, maintains [atomic line lists](https://physics.nist.gov/PhysRefData/ASD/lines_form.html).  However, we have no direct way to know which transitions from these atoms to use!  There are a few heuristics we can apply, though."
      ]
    },
    {
      "cell_type": "code",
      "execution_count": null,
      "metadata": {
        "id": "TaKiAqENy_1t"
      },
      "outputs": [],
      "source": [
        "# we adopt the minimum/maximum wavelength from our linear fit\n",
        "minwave = wavelengths.min()\n",
        "maxwave = wavelengths.max()\n",
        "# then we search for atomic lines\n",
        "# We are only interested in neutral lines, assuming the lamps are not hot enough to ionize the atoms\n",
        "mercury_lines = Nist.query(minwav=minwave,\n",
        "                           maxwav=maxwave,\n",
        "                           linename='Hg I')\n",
        "krypton_lines = Nist.query(minwav=minwave,\n",
        "                           maxwav=maxwave,\n",
        "                           linename='Kr I')\n",
        "neon_lines = Nist.query(minwav=minwave,\n",
        "                        maxwav=maxwave,\n",
        "                        linename='Ne I')"
      ]
    },
    {
      "cell_type": "markdown",
      "metadata": {
        "id": "LZz3wmcyy_1t"
      },
      "source": [
        "We can first look at what NIST reports for the mercury spectrum we already fit:\n",
        "\n",
        "(note that the wavelengths are *air* wavelengths, not vacuum)"
      ]
    },
    {
      "cell_type": "code",
      "execution_count": null,
      "metadata": {
        "id": "a6FblXLny_1t"
      },
      "outputs": [],
      "source": [
        "plt.plot(wavelengths, hg_spectrum)\n",
        "plt.vlines(mercury_lines['Observed'], 0, 250, 'w', alpha=0.25);"
      ]
    },
    {
      "cell_type": "markdown",
      "metadata": {
        "id": "7S3DET2_y_1t"
      },
      "source": [
        "The database contains *many* more lines than we saw.\n",
        "\n",
        "The \"Rel. Int\" (Relative Intensity) provides \"a qualitative description of what the emission spectrum of a particular element in a particular (low-density) source looks like.\"\n",
        "\n",
        "We can select that column, if we clean it up a little (there are some \"blank\" entries)"
      ]
    },
    {
      "cell_type": "code",
      "execution_count": null,
      "metadata": {
        "id": "Nv0nQsvby_1t"
      },
      "outputs": [],
      "source": [
        "# these lines downselect from the table to keep only those that have usable \"Relative Intensity\" measurements\n",
        "# first, we get rid of those whose 'Rel.' column is masked out or is an asterisk\n",
        "hg_keep = (~mercury_lines['Rel.'].mask) & (mercury_lines['Rel.'] != \"*\")\n",
        "hg_wl_tbl = mercury_lines['Observed'][hg_keep]\n",
        "# then, we collect the 'Rel.' values and convert them from strings to floats\n",
        "hg_rel_tbl = np.array([float(x) for x in mercury_lines['Rel.'][hg_keep]])"
      ]
    },
    {
      "cell_type": "code",
      "execution_count": null,
      "metadata": {
        "id": "Cv3ZsE-2y_1t"
      },
      "outputs": [],
      "source": [
        "plt.plot(wavelengths, hg_spectrum)\n",
        "# we normalize the relative intensities to match the intensity of the spectrum so we can see both on the same plot\n",
        "# since they're just relative intensities, their amplitudes are arbitrary anyway\n",
        "plt.plot(hg_wl_tbl, hg_rel_tbl / hg_rel_tbl.max() * hg_spectrum.max(), 'x')\n",
        "plt.xlabel(\"$\\lambda$ [nm]\");"
      ]
    },
    {
      "cell_type": "markdown",
      "metadata": {
        "id": "TGrdf5zIy_1t"
      },
      "source": [
        "Not bad!  See that only the three \"brightest\" lines show up, plus maybe a bit of a third one around 408 nm.\n",
        "\n",
        "Let's try the same for the other lines (note that the hackery changes - this is because the NIST tables are not formatted to be machine-readable!)"
      ]
    },
    {
      "cell_type": "code",
      "execution_count": null,
      "metadata": {
        "id": "MXLILJ6Wy_1t"
      },
      "outputs": [],
      "source": [
        "ne_keep = np.array(['*' not in x for x in neon_lines['Rel.']])\n",
        "ne_wl_tbl = neon_lines['Observed'][ne_keep]\n",
        "ne_rel_tbl = np.array([float(x) for x in neon_lines['Rel.'][ne_keep]])"
      ]
    },
    {
      "cell_type": "code",
      "execution_count": null,
      "metadata": {
        "id": "CSWFZtpmy_1t"
      },
      "outputs": [],
      "source": [
        "kr_keep = np.array([('*' not in x) and ('h' not in x) and ('-' not in x) for x in krypton_lines['Rel.']])\n",
        "kr_wl_tbl = krypton_lines['Observed'][kr_keep]\n",
        "kr_rel_tbl = np.array([float(x) for x in krypton_lines['Rel.'][kr_keep]])"
      ]
    },
    {
      "cell_type": "code",
      "execution_count": null,
      "metadata": {
        "id": "go1pT8S9y_1t"
      },
      "outputs": [],
      "source": [
        "plt.plot(wavelengths, ne_spectrum)\n",
        "plt.plot(ne_wl_tbl, ne_rel_tbl / ne_rel_tbl.max() * ne_spectrum.max(), 'x')\n",
        "plt.xlabel(\"$\\lambda$ [nm]\")\n",
        "plt.title(\"Neon\");"
      ]
    },
    {
      "cell_type": "markdown",
      "metadata": {
        "id": "OhJSnS4ly_1t"
      },
      "source": [
        "For Neon, there are many lines that match up, but a lot that don't match well (we detect a lot that have low `Rel` values)"
      ]
    },
    {
      "cell_type": "code",
      "execution_count": null,
      "metadata": {
        "id": "GtiV8SQCy_1u"
      },
      "outputs": [],
      "source": [
        "plt.plot(wavelengths, kr_spectrum)\n",
        "plt.plot(kr_wl_tbl, kr_rel_tbl / kr_rel_tbl.max() * kr_spectrum.max(), 'x')\n",
        "plt.xlabel(\"$\\lambda$ [nm]\")\n",
        "plt.title(\"Krypton\");"
      ]
    },
    {
      "cell_type": "markdown",
      "metadata": {
        "id": "lJm2F9rEy_1u"
      },
      "source": [
        "The Krypton spectrum will be much easier to deal with: we just select those lines with intensities > 70 on the scale above:"
      ]
    },
    {
      "cell_type": "code",
      "execution_count": null,
      "metadata": {
        "id": "0LSoHh3ky_1u"
      },
      "outputs": [],
      "source": [
        "kr_rel_intens =  kr_rel_tbl / kr_rel_tbl.max() * kr_spectrum.max()\n",
        "kr_keep_final = kr_rel_intens > 70\n",
        "kr_wl_final = kr_wl_tbl[kr_keep_final]"
      ]
    },
    {
      "cell_type": "markdown",
      "metadata": {
        "id": "X9rcvPidy_1u"
      },
      "source": [
        "We then take these krypton wavelengths and convert them back to pixel space:"
      ]
    },
    {
      "cell_type": "code",
      "execution_count": null,
      "metadata": {
        "id": "9mu68yqby_1u"
      },
      "outputs": [],
      "source": [
        "# the linear model has an inverse function that takes y = m x + b and converts to x = (y - b) / m\n",
        "kr_pixel_vals = linfit_wlmodel.inverse(kr_wl_final)"
      ]
    },
    {
      "cell_type": "code",
      "execution_count": null,
      "metadata": {
        "id": "di2cOYUWy_1u"
      },
      "outputs": [],
      "source": [
        "plt.plot(xaxis, kr_spectrum)\n",
        "plt.plot(kr_pixel_vals, kr_rel_intens[kr_keep_final], 'x');"
      ]
    },
    {
      "cell_type": "markdown",
      "metadata": {
        "id": "UlRCQKuoy_1u"
      },
      "source": [
        "As with mercury above, we select a sub-region and measure the intensity-weighted peak position in pixel number to accurately measure the pixel center.\n",
        "\n",
        "But here we have to be careful!  These peaks are very close!  Can we still use a +/-15 pixel range?"
      ]
    },
    {
      "cell_type": "code",
      "execution_count": null,
      "metadata": {
        "id": "W-pf9Y6Gy_1u"
      },
      "outputs": [],
      "source": [
        "# Examine the pixel range, +/-15 pix, to see if it results in line overlaps\n",
        "plt.plot(xaxis, kr_spectrum)\n",
        "plt.plot(kr_pixel_vals, kr_rel_intens[kr_keep_final], 'x')\n",
        "for xx, yy in zip(kr_pixel_vals, kr_rel_intens[kr_keep_final]):\n",
        "    plt.plot([xx-15,xx+15], [yy,yy], ) # plot horizontal lines at each peak location\n",
        "plt.xlim(1200,1350);"
      ]
    },
    {
      "cell_type": "markdown",
      "metadata": {
        "id": "DGzL7srxy_1u"
      },
      "source": [
        "Yes, 15 pixels looks OK still.\n",
        "\n",
        "If these lines had overlapped with one another at all, we would have wanted to decrease the pixel range."
      ]
    },
    {
      "cell_type": "code",
      "execution_count": null,
      "metadata": {
        "id": "_cZY9Tr0y_1u"
      },
      "outputs": [],
      "source": [
        "# note that we have to force the pixel-center guesses to be integers for slicing:\n",
        "npixels = 15\n",
        "improved_xval_guesses_kr = [np.average(xaxis[g-npixels:g+npixels],\n",
        "                                    weights=kr_spectrum[g-npixels:g+npixels] - np.median(kr_spectrum))\n",
        "                         for g in map(int, kr_pixel_vals)]\n",
        "improved_xval_guesses_kr"
      ]
    },
    {
      "cell_type": "markdown",
      "metadata": {
        "id": "l4Q5F2e8y_1u"
      },
      "source": [
        "Now we can plot these best-fit pixel numbers against the \"true\" wavelengths and overplot our previous best-fit model from mercury:"
      ]
    },
    {
      "cell_type": "code",
      "execution_count": null,
      "metadata": {
        "id": "42Ds80yfy_1u"
      },
      "outputs": [],
      "source": [
        "plt.plot(improved_xval_guesses_kr, kr_wl_final, 'x', label='Krypton')\n",
        "plt.plot(improved_xval_guesses, guessed_wavelengths, '+', label='Mercury')\n",
        "plt.plot(xaxis, wavelengths, zorder=-5)\n",
        "plt.legend(loc='best')\n",
        "plt.xlabel(\"Pixel Coordinate\")\n",
        "plt.ylabel(\"Wavelength (nm)\");"
      ]
    },
    {
      "cell_type": "markdown",
      "metadata": {
        "id": "E-TchIzHy_1u"
      },
      "source": [
        "We can now jointly fit the Kr + Hg spectra with a new model:"
      ]
    },
    {
      "cell_type": "code",
      "execution_count": null,
      "metadata": {
        "id": "yPtoweaLy_1u"
      },
      "outputs": [],
      "source": [
        "# we concatenate the data sets together\n",
        "xvals_hg_plus_kr = np.concatenate([improved_xval_guesses,\n",
        "                                   improved_xval_guesses_kr])\n",
        "waves_hg_plus_kr = np.concatenate([guessed_wavelengths, kr_wl_final])\n",
        "linfit_wlmodel_hgkr = linfitter(model=wlmodel,\n",
        "                                x=xvals_hg_plus_kr,\n",
        "                                y=waves_hg_plus_kr)\n",
        "linfit_wlmodel_hgkr"
      ]
    },
    {
      "cell_type": "code",
      "execution_count": null,
      "metadata": {
        "id": "nFjZ8k3ay_1u"
      },
      "outputs": [],
      "source": [
        "# re-plot the data with the fit overlaid\n",
        "plt.plot(improved_xval_guesses_kr, kr_wl_final, 'x', label='Krypton')\n",
        "plt.plot(improved_xval_guesses, guessed_wavelengths, '+', label='Mercury')\n",
        "plt.plot(xaxis, wavelengths, zorder=-5)\n",
        "plt.plot(xaxis, linfit_wlmodel_hgkr(xaxis), zorder=-5)\n",
        "plt.legend(loc='best')\n",
        "plt.xlabel(\"Pixel Coordinate\")\n",
        "plt.ylabel(\"Wavelength (nm)\");"
      ]
    },
    {
      "cell_type": "markdown",
      "metadata": {
        "id": "henz-NHRy_1u"
      },
      "source": [
        "These are nearly indistiguishable, but let's look at the residuals for each:"
      ]
    },
    {
      "cell_type": "code",
      "execution_count": null,
      "metadata": {
        "id": "zSMLJiEry_1u"
      },
      "outputs": [],
      "source": [
        "residuals_hgonlymodel = np.array(waves_hg_plus_kr) - linfit_wlmodel(xvals_hg_plus_kr)\n",
        "residuals_hgkrmodel = np.array(waves_hg_plus_kr) - linfit_wlmodel_hgkr(xvals_hg_plus_kr)\n",
        "plt.hist(residuals_hgonlymodel, label='Hg-only fit', histtype='stepfilled')\n",
        "plt.hist(residuals_hgkrmodel, label='Hg-only fit', histtype='step');"
      ]
    },
    {
      "cell_type": "markdown",
      "metadata": {
        "id": "MbuRK6Qpy_1u"
      },
      "source": [
        "The differences are pretty marginal; the Hg-only fit was really good.\n",
        "\n",
        "Is there any shape to the residuals?"
      ]
    },
    {
      "cell_type": "code",
      "execution_count": null,
      "metadata": {
        "id": "YR6kLlmay_1u"
      },
      "outputs": [],
      "source": [
        "plt.plot(xvals_hg_plus_kr, residuals_hgonlymodel, 'x')\n",
        "plt.xlabel(\"Pixel Coordinate\")\n",
        "plt.ylabel(\"Wavelength residual (data minus model; nm)\");"
      ]
    },
    {
      "cell_type": "code",
      "execution_count": null,
      "metadata": {
        "id": "29MNeKK5y_1u"
      },
      "outputs": [],
      "source": [
        "plt.plot(xvals_hg_plus_kr, residuals_hgkrmodel, 'x')\n",
        "plt.xlabel(\"Pixel Coordinate\")\n",
        "plt.ylabel(\"Wavelength residual (data minus model; nm)\");"
      ]
    },
    {
      "cell_type": "markdown",
      "metadata": {
        "id": "S-3Oz9VRy_1u"
      },
      "source": [
        "In brief, no, there's no sign of structure.  If there were, we might want to fit a higher-order model."
      ]
    },
    {
      "cell_type": "markdown",
      "metadata": {
        "id": "WW0FNntAy_1u"
      },
      "source": [
        "We can also estimate a chi-squared-like statistic (though note that this is *not* the $\\chi^2$ value we would use to assess goodness of fit because we have *not* estimated the uncertainty on each wavelength point!)"
      ]
    },
    {
      "cell_type": "code",
      "execution_count": null,
      "metadata": {
        "id": "vEy6q74ay_1u"
      },
      "outputs": [],
      "source": [
        "resid2_hgonly = (residuals_hgonlymodel**2).sum()\n",
        "resid2_hgkr = (residuals_hgkrmodel**2).sum()\n",
        "resid2_hgonly, resid2_hgkr"
      ]
    },
    {
      "cell_type": "markdown",
      "metadata": {
        "id": "8EABP4lEy_1u"
      },
      "source": [
        "These differences are also very small, again suggesting the Hg-only fit was really good."
      ]
    },
    {
      "cell_type": "markdown",
      "metadata": {
        "id": "VMq36pgKy_1u"
      },
      "source": [
        "Why do we bother going through all these checks if the Hg-only fit was just fine?  \n",
        "\n",
        "Besides simply not knowing, it is common for spectrographs to have slightly non-linear dispersion when measured over a wide wavelength range, so we want to be sure we haven't missed any such curvature.\n",
        "\n",
        "We also want to measure the uncertainty on our wavelength calibration."
      ]
    },
    {
      "cell_type": "markdown",
      "metadata": {
        "id": "iVJPiMWIy_1v"
      },
      "source": [
        "Now let's go back and measure the Neon spectrum"
      ]
    },
    {
      "cell_type": "code",
      "execution_count": null,
      "metadata": {
        "id": "zjqETBwXy_1v"
      },
      "outputs": [],
      "source": [
        "ne_rel_intens = ne_rel_tbl / ne_rel_tbl.max() * ne_spectrum.max()\n",
        "plt.plot(wavelengths, ne_spectrum)\n",
        "plt.plot(ne_wl_tbl, ne_rel_intens, 'x')\n",
        "plt.xlabel('Wavelength (nm)');"
      ]
    },
    {
      "cell_type": "markdown",
      "metadata": {
        "id": "jZDX_vTAy_1v"
      },
      "source": [
        "We can try keeping only those with intensiy >100, though we will miss some lines"
      ]
    },
    {
      "cell_type": "code",
      "execution_count": null,
      "metadata": {
        "id": "SaVupGOzy_1v"
      },
      "outputs": [],
      "source": [
        "ne_keep_final = ne_rel_intens > 100\n",
        "plt.plot(wavelengths, ne_spectrum)\n",
        "plt.plot(ne_wl_tbl[ne_keep_final], ne_rel_intens[ne_keep_final], 'x')\n",
        "plt.xlabel('Wavelength (nm)');"
      ]
    },
    {
      "cell_type": "code",
      "execution_count": null,
      "metadata": {
        "id": "icCIOpszy_1v"
      },
      "outputs": [],
      "source": [
        "# select down to just those lines we want to keep\n",
        "ne_wl_final = ne_wl_tbl[ne_keep_final]\n",
        "ne_pixel_vals = linfit_wlmodel.inverse(ne_wl_final)"
      ]
    },
    {
      "cell_type": "code",
      "execution_count": null,
      "metadata": {
        "id": "CA3PvDOgy_1v"
      },
      "outputs": [],
      "source": [
        "# check for overlaps again (in the densest part of the spectrum)\n",
        "plt.plot(xaxis, ne_spectrum)\n",
        "plt.plot(ne_pixel_vals, ne_rel_intens[ne_keep_final], 'x')\n",
        "for xx, yy in zip(ne_pixel_vals, ne_rel_intens[ne_keep_final]):\n",
        "    plt.plot([xx-15,xx+15], [yy,yy], )\n",
        "plt.xlim(600,850)\n",
        "plt.xlabel('Wavelength (nm)');"
      ]
    },
    {
      "cell_type": "markdown",
      "metadata": {
        "id": "DCUB77Rvy_1v"
      },
      "source": [
        "For Neon, our automated approach isn't very good (the third point from the left is not on a peak), and we'll want to use a narrower pixel range.\n",
        "\n",
        "Still, rather than go back through and laboriously identify each line, we'll stick with a semi-automated approach, just using a narrower range around each peak."
      ]
    },
    {
      "cell_type": "code",
      "execution_count": null,
      "metadata": {
        "id": "eQYcSohiy_1v"
      },
      "outputs": [],
      "source": [
        "npixels = 10\n",
        "improved_xval_guesses_ne = [np.average(xaxis[g-npixels:g+npixels],\n",
        "                                    weights=ne_spectrum[g-npixels:g+npixels] - np.median(ne_spectrum))\n",
        "                         for g in map(int, ne_pixel_vals)]\n",
        "improved_xval_guesses_ne"
      ]
    },
    {
      "cell_type": "code",
      "execution_count": null,
      "metadata": {
        "id": "oWeH2-0Iy_1v"
      },
      "outputs": [],
      "source": [
        "plt.plot(improved_xval_guesses_kr, kr_wl_final, 'x', label='Krypton')\n",
        "plt.plot(improved_xval_guesses_ne, ne_wl_final, '^', label='Neon')\n",
        "plt.plot(improved_xval_guesses, guessed_wavelengths, '+', label='Mercury')\n",
        "plt.plot(xaxis, wavelengths, zorder=-5)\n",
        "plt.plot(xaxis, linfit_wlmodel_hgkr(xaxis), zorder=-5)\n",
        "plt.legend(loc='best')\n",
        "plt.xlabel(\"Pixel Coordinate\")\n",
        "plt.ylabel(\"Wavelength (nm)\");"
      ]
    },
    {
      "cell_type": "markdown",
      "metadata": {
        "id": "eYd7aYnVy_1v"
      },
      "source": [
        "We concatenate the Neon lines onto the spectrum and re-fit again"
      ]
    },
    {
      "cell_type": "code",
      "execution_count": null,
      "metadata": {
        "id": "GMK-dusXy_1v"
      },
      "outputs": [],
      "source": [
        "xvals_hg_plus_kr_plus_ne = list(improved_xval_guesses) + list(improved_xval_guesses_kr) + list(improved_xval_guesses_ne)\n",
        "waves_hg_plus_kr_plus_ne = list(guessed_wavelengths) + list(kr_wl_final) + list(ne_wl_final)\n",
        "linfit_wlmodel_hgkrne = linfitter(model=wlmodel, x=xvals_hg_plus_kr_plus_ne, y=waves_hg_plus_kr_plus_ne)\n",
        "linfit_wlmodel_hgkrne"
      ]
    },
    {
      "cell_type": "code",
      "execution_count": null,
      "metadata": {
        "id": "o0C-Vy69y_1v"
      },
      "outputs": [],
      "source": [
        "residuals_hgmodel_nedata = np.array(waves_hg_plus_kr_plus_ne) - linfit_wlmodel(xvals_hg_plus_kr_plus_ne)\n",
        "residuals_hgkrmodel_nedata = np.array(waves_hg_plus_kr_plus_ne) - linfit_wlmodel_hgkr(xvals_hg_plus_kr_plus_ne)\n",
        "residuals_hgkrnemodel_nedata = np.array(waves_hg_plus_kr_plus_ne) - linfit_wlmodel_hgkrne(xvals_hg_plus_kr_plus_ne)"
      ]
    },
    {
      "cell_type": "code",
      "execution_count": null,
      "metadata": {
        "id": "1PAFOIdWy_1v"
      },
      "outputs": [],
      "source": [
        "# calculate and compare the squared residuals\n",
        "# the model calculated for Hg-only works better than that for Krypton, but the optimal linear model is calculated\n",
        "# from all data, with a squared residual of 1.26 nm\n",
        "resid2_hgonly = (residuals_hgmodel_nedata**2).sum()\n",
        "resid2_hgkr = (residuals_hgkrmodel_nedata**2).sum()\n",
        "resid2_hgkrne = (residuals_hgkrnemodel_nedata**2).sum()\n",
        "resid2_hgonly, resid2_hgkr, resid2_hgkrne"
      ]
    },
    {
      "cell_type": "code",
      "execution_count": null,
      "metadata": {
        "id": "2FJU1xApy_1v"
      },
      "outputs": [],
      "source": [
        "plt.plot(xvals_hg_plus_kr_plus_ne, residuals_hgkrnemodel_nedata, 'x')\n",
        "plt.xlabel(\"Pixel Coordinate\")\n",
        "plt.ylabel(\"Wavelength residual (data minus model; nm)\");"
      ]
    },
    {
      "cell_type": "markdown",
      "metadata": {
        "id": "Owvv9Fhny_1v"
      },
      "source": [
        "Finally, with neon included, there is a hint of some structure"
      ]
    },
    {
      "cell_type": "code",
      "execution_count": null,
      "metadata": {
        "id": "o9Km_Afcy_1w"
      },
      "outputs": [],
      "source": [
        "plt.hist(residuals_hgkrnemodel_nedata)\n",
        "plt.title(f\"Stddev = {residuals_hgkrnemodel_nedata.std()}\");"
      ]
    },
    {
      "cell_type": "markdown",
      "metadata": {
        "id": "_hGDhwomy_1w"
      },
      "source": [
        "This histogram is perhaps a little skewed."
      ]
    },
    {
      "cell_type": "markdown",
      "metadata": {
        "id": "i6cJfocRy_1w"
      },
      "source": [
        "There may be some curvature to this spectrum, but the evidence is not terribly compelling, particularly given the uncertain nature of the Neon line fits."
      ]
    },
    {
      "cell_type": "markdown",
      "metadata": {
        "id": "0saB8Cony_1w"
      },
      "source": [
        "The scatter in these residuals comes out to ~0.24 nm.  We'll examine this value further below."
      ]
    },
    {
      "cell_type": "markdown",
      "metadata": {
        "id": "eTNovMkjy_1w"
      },
      "source": [
        "## Measuring the uncertainty of the wavelength solution\n",
        "\n",
        "To evaluate our uncertainty, let's first look at the uncertainty in the pixel value inferred from looking at a single line in the mercury spectrum."
      ]
    },
    {
      "cell_type": "code",
      "execution_count": null,
      "metadata": {
        "id": "MlUcLdtjy_1x"
      },
      "outputs": [],
      "source": [
        "plt.plot(xaxis, hg_spectrum)\n",
        "plt.xlim(100,200)\n",
        "plt.xlabel(\"Pixel Index Number\");"
      ]
    },
    {
      "cell_type": "markdown",
      "metadata": {
        "id": "NObalHpgy_1x"
      },
      "source": [
        "We can get a *coarse* empirical estimate of the per-pixel uncertainty by taking the standard deviation of a \"blank\" part of the spectrum:"
      ]
    },
    {
      "cell_type": "code",
      "execution_count": null,
      "metadata": {
        "id": "rb_0-Xuty_1x"
      },
      "outputs": [],
      "source": [
        "plt.plot(xaxis[200:300], hg_spectrum[200:300])\n",
        "noise_estimate = hg_spectrum[200:300].std()\n",
        "plt.title(f\"stddev = {noise_estimate:0.2f}\");"
      ]
    },
    {
      "cell_type": "markdown",
      "metadata": {
        "id": "EfnVavq7y_1x"
      },
      "source": [
        "The moment-1 estimate of the peak location is, for a spectrum $f(x)$ and pixel location $x$\n",
        "$$ m_1 = \\frac{\\Sigma x f(x)}{\\Sigma f(x)} $$\n",
        "\n",
        "which, through propagation of error, gives us variance of moment 1:\n",
        "\n",
        "$$\\sigma_{m_1}^2 =  \\left(\\frac{\\Sigma \\left[ (x-m_1)^2   \\sigma_{f(x)}^2 \\right]}{\\left(\\Sigma f(x)\\right)^2}  +\n",
        "   \\frac{\\sigma_{\\Sigma f(x)}^2 \\Sigma \\left[ (x-m_1)^2 f(x)^2 \\right]}{\\left(\\Sigma f(x)\\right)^4} \\right)$$\n",
        "   \n",
        "   where\n",
        "$   \\sigma_{\\Sigma f(x)}^2 = \\Sigma \\sigma_{f(x)}^2 = N \\sigma_{f(x)}^2 $"
      ]
    },
    {
      "cell_type": "code",
      "execution_count": null,
      "metadata": {
        "id": "yjQmFP6dy_1x"
      },
      "outputs": [],
      "source": [
        "cutout = hg_spectrum[100:200] - np.median(hg_spectrum)\n",
        "xcutout = xaxis[100:200]\n",
        "m1 = (xcutout * cutout).sum() / cutout.sum()\n",
        "m1"
      ]
    },
    {
      "cell_type": "code",
      "execution_count": null,
      "metadata": {
        "id": "XNoRb05hy_1x"
      },
      "outputs": [],
      "source": [
        "# Uncertainty on moment 1\n",
        "sigma_m1_left = ((xcutout-m1)**2 * noise_estimate**2).sum() / cutout.sum()**2\n",
        "sigma_m1_right = (xcutout.size * noise_estimate**2) * ((xcutout-m1)**2*cutout**2).sum() / cutout.sum()**4\n",
        "sigma_m1 = sigma_m1_left + sigma_m1_right\n",
        "sigma_m1"
      ]
    },
    {
      "cell_type": "code",
      "execution_count": null,
      "metadata": {
        "id": "p7bVQDwKy_1x"
      },
      "outputs": [],
      "source": [
        "print(f\"Moment analysis yields m1 = {m1:0.3f} +/- {sigma_m1:0.3f} pixels\")"
      ]
    },
    {
      "cell_type": "markdown",
      "metadata": {
        "id": "Bjaq843Zy_1x"
      },
      "source": [
        "The uncertainty is about 1/1000th of a pixel for a bright line.  It may be somewhat larger for fainter lines, but it is still much smaller than our observed scatter."
      ]
    },
    {
      "cell_type": "markdown",
      "metadata": {
        "id": "jJAYzw4sy_1x"
      },
      "source": [
        " We can prove that the uncertainty per line is negligible by looking at a faint neon line:"
      ]
    },
    {
      "cell_type": "code",
      "execution_count": null,
      "metadata": {
        "id": "Obt1XmN_y_1x"
      },
      "outputs": [],
      "source": [
        "# cut out a line and compute its moment 1\n",
        "cutoutne = ne_spectrum[640:660] - np.median(ne_spectrum)\n",
        "xcutoutne = xaxis[640:660]\n",
        "m1ne = (xcutoutne * cutoutne).sum() / cutoutne.sum()"
      ]
    },
    {
      "cell_type": "code",
      "execution_count": null,
      "metadata": {
        "id": "fHHVCLVpy_1x"
      },
      "outputs": [],
      "source": [
        "# estimate the per-pixel error in the Neon spectrum\n",
        "ne_noise_estimate = ne_spectrum[1400:1600].std()\n",
        "ne_noise_estimate"
      ]
    },
    {
      "cell_type": "code",
      "execution_count": null,
      "metadata": {
        "id": "a13NIEajy_1x"
      },
      "outputs": [],
      "source": [
        "plt.plot(xcutoutne, cutoutne)\n",
        "plt.plot(m1ne, cutoutne.max(), 'x')\n",
        "plt.xlabel(\"Pixel Coordinate\");"
      ]
    },
    {
      "cell_type": "code",
      "execution_count": null,
      "metadata": {
        "id": "P2xECOA0y_1x"
      },
      "outputs": [],
      "source": [
        "# calculate Neon line centroid uncertainty\n",
        "sigma_m1_left = ((xcutoutne-m1ne)**2 * ne_noise_estimate**2).sum() / cutoutne.sum()**2\n",
        "sigma_m1_right = (xcutoutne.size * ne_noise_estimate**2) * ((xcutoutne-m1ne)**2*cutoutne**2).sum() / cutoutne.sum()**4\n",
        "sigma_m1_ne = sigma_m1_left + sigma_m1_right\n",
        "sigma_m1_ne"
      ]
    },
    {
      "cell_type": "code",
      "execution_count": null,
      "metadata": {
        "id": "KrfdWc36y_1x"
      },
      "outputs": [],
      "source": [
        "print(f\"Moment analysis for the faint Neon line yields m1 = {m1ne:0.4f} +/- {sigma_m1_ne:0.4f} pixels\")"
      ]
    },
    {
      "cell_type": "markdown",
      "metadata": {
        "id": "aj65QaIMy_1x"
      },
      "source": [
        "This error is ~40 times larger, but still much less than a pixel's width."
      ]
    },
    {
      "cell_type": "markdown",
      "metadata": {
        "id": "wCgRs_hMy_1x"
      },
      "source": [
        "Our best fit gives that each pixel is about 0.1 nm (this comes from the slope of the fitted line), so our uncertainty is 0.0001 nm - 0.004 nm.  The scatter in the residuals is 0.23 nm, so it is not explained by our formal fit's statistical uncertainty."
      ]
    },
    {
      "cell_type": "code",
      "execution_count": null,
      "metadata": {
        "id": "_b7qEFhHy_1x"
      },
      "outputs": [],
      "source": [
        "print(f\"Standard Deviation of the residuals = {residuals_hgkrnemodel_nedata.std()} nm, \"\n",
        "      f\"Faint Line uncertainty = {sigma_m1_ne * linfit_wlmodel_hgkrne.slope} nm\")"
      ]
    },
    {
      "cell_type": "markdown",
      "metadata": {
        "id": "W2YSdNhGy_1x"
      },
      "source": [
        "## What does the residual represent?\n",
        "\n",
        "The residual to our fit gives us a sense of the *systematic* uncertainty from a combination of line blending and imperfect fits.  We know, from the NIST line lists, that there are in some cases multiple lines that we could not easily distinguish in the spectrum: these add a small bias to our inferred pixel locations.\n",
        "\n",
        "There may also be subtle effects from the spectrograph itself that cause small systematic variations in the wavelength solution."
      ]
    },
    {
      "cell_type": "markdown",
      "metadata": {
        "id": "IUKLxN6yy_1x"
      },
      "source": [
        "## How could we do better?\n",
        "\n",
        "We could attempt to *deblend* the individual spectral features by jointly fitting multiple-Gaussian models.\n",
        "\n",
        "While this procedure is commonly used, it is fraught with error and extremely difficult to automate in general."
      ]
    },
    {
      "cell_type": "markdown",
      "metadata": {
        "id": "nt5Z-ptfy_1x"
      },
      "source": [
        "You're done!  Now apply this calibration to the data and start measuring things in Tutorial 3"
      ]
    }
  ],
  "metadata": {
    "celltoolbar": "Slideshow",
    "language_info": {
      "name": "python"
    },
    "rise": {
      "transition": "none"
    },
    "colab": {
      "provenance": []
    },
    "kernelspec": {
      "name": "python3",
      "display_name": "Python 3"
    }
  },
  "nbformat": 4,
  "nbformat_minor": 0
}