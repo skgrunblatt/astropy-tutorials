{
  "cells": [
    {
      "cell_type": "markdown",
      "metadata": {
        "id": "UeKS063Ny_1m"
      },
      "source": [
        "# Spectroscopic Data Reduction Part 2: Wavelength Calibration\n",
        "\n",
        "This notebook assumes you've completed the Spectroscopic Trace process (see [Part 1](1-SpectroscopicTraceTutorial.ipynb)) and have a trace model handy.\n",
        "\n",
        "## Authors\n",
        "Adam Ginsburg, Kelle Cruz, Lia Corrales, Jonathan Sick, Adrian Price-Whelan\n",
        "\n",
        "## Learning Goals\n",
        "* Extract calibration lamp spectra from two-dimensional spectral images\n",
        "* Fit a wavelength solution\n",
        "\n",
        "\n",
        "## Keywords\n",
        "Spectroscopy\n",
        "\n",
        "## Summary\n",
        "This tutorial will walk through extraction of a calibration lamp spectrum using an existing trace.\n",
        "\n",
        "It will then demonstrate line identification using the NIST line list database.\n",
        "\n",
        "Finally, it will show how to fit a wavelength solution to a calibration spectrum, integrating information from multiple calibration lamps."
      ]
    },
    {
      "cell_type": "code",
      "execution_count": null,
      "metadata": {
        "id": "9fYGBk2vy_1o"
      },
      "outputs": [],
      "source": [
        "import requests\n",
        "\n",
        "url = 'https://raw.githubusercontent.com/skgrunblatt/astropy-tutorials/main/tutorials/SpectroscopicDataReductionBasics/requirements.txt'\n",
        "response = requests.get(url)\n",
        "\n",
        "if response.status_code == 200:\n",
        "    print(f\"Required packages for this notebook:\\n{response.text}\")\n",
        "else:\n",
        "    print(\"Failed to retrieve the file.\")"
      ]
    },
    {
      "cell_type": "code",
      "source": [
        "!pip install astroquery"
      ],
      "metadata": {
        "id": "TqvWwPVxzca0"
      },
      "execution_count": null,
      "outputs": []
    },
    {
      "cell_type": "code",
      "execution_count": null,
      "metadata": {
        "id": "ur72qIzBy_1o"
      },
      "outputs": [],
      "source": [
        "from astropy import units as u\n",
        "from astropy.modeling.polynomial import Polynomial1D\n",
        "from astropy.modeling.models import Gaussian1D, Linear1D\n",
        "from astropy.modeling.fitting import LinearLSQFitter\n",
        "from IPython.display import Image"
      ]
    },
    {
      "cell_type": "code",
      "execution_count": null,
      "metadata": {
        "id": "NvBjCQRqy_1o"
      },
      "outputs": [],
      "source": [
        "from PIL import Image as PILImage\n",
        "import numpy as np\n",
        "import matplotlib.pyplot as plt\n",
        "plt.rcParams['image.origin'] = 'lower'  # we want to show images, not matrices, so we set the origin to the lower-left\n",
        "plt.style.use('dark_background')  # Optional configuration: if run, this will look nice on dark background notebooks"
      ]
    },
    {
      "cell_type": "markdown",
      "metadata": {
        "id": "mw6C4ocQy_1o"
      },
      "source": [
        "Now, we're going to use an emission nebula as our wavelength calibrator. We'll use a spectrum take of NGC 7027 with the 16\" telescope."
      ]
    },
    {
      "cell_type": "code",
      "source": [
        "from io import BytesIO\n",
        "# example for a FITS image (uncomment this for final part of lab):\n",
        "from astropy.io import fits\n",
        "url = \"https://raw.githubusercontent.com/skgrunblatt/astropy-tutorials/main/tutorials/SpectroscopicDataReductionBasics/ngc7027-5mdark.fits\"\n",
        "\n",
        "# Fetch the image data from the URL\n",
        "response = requests.get(url)\n",
        "\n",
        "# Check if the request was successful\n",
        "if response.status_code == 200:\n",
        "    # Create a file-like object from the response content\n",
        "    image_data = fits.open(BytesIO(response.content))[0].data\n",
        "    print(\"Image loaded successfully!\")\n",
        "else:\n",
        "    print(\"Failed to retrieve the image.\")"
      ],
      "metadata": {
        "id": "RnDeBWVQOP1J"
      },
      "execution_count": null,
      "outputs": []
    },
    {
      "cell_type": "code",
      "execution_count": null,
      "metadata": {
        "id": "A-grni6-y_1p"
      },
      "outputs": [],
      "source": [
        "plt.imshow(image_data);"
      ]
    },
    {
      "cell_type": "markdown",
      "metadata": {
        "id": "-aVH6bngy_1p"
      },
      "source": [
        "We re-create our trace model from the [Spectroscopic Trace Tutorial](Spectroscopic%20Trace%20Tutorial.ipynb) using the fitted models.\n",
        "\n",
        "(We could have used the empirical trace directly, which might result in slightly improved noise characteristics, but for simplicity - and to make the two notebooks independently usable - we use the fitted polynomial & Gaussian models here)"
      ]
    },
    {
      "cell_type": "code",
      "execution_count": null,
      "metadata": {
        "id": "ojILFV-dy_1p"
      },
      "outputs": [],
      "source": [
        "trace_model = Polynomial1D(degree=3, c0=53.99807515, c1=-0.01366068, c2=0.00001542, c3=-0.00000002) # plug in coefficients from part 1 with Betelgeuse or Sirius here!\n",
        "trace_profile_model = Gaussian1D(amplitude=123.84846797, mean=0.17719819, stddev=5.10872134)\n",
        "xaxis = np.arange(image_data.shape[1])\n",
        "trace_center = trace_model(xaxis)\n",
        "npixels_to_cut=15\n",
        "yaxis = np.arange(-npixels_to_cut, npixels_to_cut)\n",
        "model_trace_profile = trace_profile_model(yaxis)"
      ]
    },
    {
      "cell_type": "code",
      "source": [
        "trace_model"
      ],
      "metadata": {
        "id": "JdK0hSqtPogD"
      },
      "execution_count": null,
      "outputs": []
    },
    {
      "cell_type": "code",
      "source": [
        "plt.imshow(image_data)\n",
        "plt.plot(xaxis,trace_center)"
      ],
      "metadata": {
        "id": "LKoLiqf3PJ8u"
      },
      "execution_count": null,
      "outputs": []
    },
    {
      "cell_type": "markdown",
      "source": [
        "Our trace doesn't go through the brightest points of the spectrum, so we'll shift it upwards by several pixels to capture more signal."
      ],
      "metadata": {
        "id": "-4ADz0ZTIn-e"
      }
    },
    {
      "cell_type": "code",
      "source": [
        "trace_model = Polynomial1D(degree=3, c0=53.99807515+15, c1=-0.01366068, c2=0.00001542, c3=-0.00000002) # plug in coefficients from part 1 with Betelgeuse or Sirius here!\n",
        "trace_profile_model = Gaussian1D(amplitude=123.84846797, mean=0.17719819, stddev=5.10872134)\n",
        "xaxis = np.arange(image_data.shape[1])\n",
        "trace_center = trace_model(xaxis)\n",
        "npixels_to_cut=15\n",
        "yaxis = np.arange(-npixels_to_cut, npixels_to_cut)\n",
        "model_trace_profile = trace_profile_model(yaxis)"
      ],
      "metadata": {
        "id": "txqFlsjLI3Dn"
      },
      "execution_count": null,
      "outputs": []
    },
    {
      "cell_type": "code",
      "source": [
        "plt.imshow(image_data)\n",
        "plt.plot(xaxis,trace_center)"
      ],
      "metadata": {
        "id": "z5_TU_WVI62A"
      },
      "execution_count": null,
      "outputs": []
    },
    {
      "cell_type": "markdown",
      "source": [
        "Now our trace seems to be passing directly through the emission lines produced by the nebula. Let's look at the resultant spectrum."
      ],
      "metadata": {
        "id": "BDCt-vQ3I8ry"
      }
    },
    {
      "cell_type": "code",
      "source": [
        "ngc7027_spectrum = np.array([np.average(image_data[int(yval)-npixels_to_cut:int(yval)+npixels_to_cut, ii],\n",
        "                                weights=model_trace_profile)\n",
        "                     for yval, ii in zip(trace_center, xaxis)])"
      ],
      "metadata": {
        "id": "arwOEvBvOmLF"
      },
      "execution_count": null,
      "outputs": []
    },
    {
      "cell_type": "code",
      "source": [
        "plt.plot(xaxis, ngc7027_spectrum)"
      ],
      "metadata": {
        "id": "gFTgTjxCP6_Q"
      },
      "execution_count": null,
      "outputs": []
    },
    {
      "cell_type": "markdown",
      "source": [
        "The narrow emission lines from the nebula are now clearly prominent over the broader spectral features produced by sources on Earth. We can now compare to reference observations of NGC 7027 at [this website](http://wsdiscovery.free.fr/astronomie/spectro/atlas/np/ngc7027/index.html), and guess the pixel values and the wavelengths of the narrow emission lines seen here."
      ],
      "metadata": {
        "id": "fFdDd1k2JLqG"
      }
    },
    {
      "cell_type": "code",
      "execution_count": null,
      "metadata": {
        "id": "jI6ce-gVy_1q"
      },
      "outputs": [],
      "source": [
        "guessed_wavelengths = [500.7, 656.3, 496.0]\n",
        "guessed_xvals = [455, 90, 468]"
      ]
    },
    {
      "cell_type": "markdown",
      "metadata": {
        "id": "Et7GQDtEy_1q"
      },
      "source": [
        "## Improving on our guesses\n",
        "\n",
        "We can do a lot better at determining the pixel X-values by taking the intensity-weighted coordinate (moment 1):"
      ]
    },
    {
      "cell_type": "code",
      "execution_count": null,
      "metadata": {
        "id": "yxD07c_Iy_1q"
      },
      "outputs": [],
      "source": [
        "npixels = 5\n",
        "improved_xval_guesses = [np.average(xaxis[g-npixels:g+npixels],\n",
        "                                    weights=image_data[0][g-npixels:g+npixels] - np.median(image_data[0]))\n",
        "                         for g in guessed_xvals]\n",
        "improved_xval_guesses"
      ]
    },
    {
      "cell_type": "code",
      "execution_count": null,
      "metadata": {
        "id": "e1hQVu_6y_1q"
      },
      "outputs": [],
      "source": [
        "plt.plot(xaxis, ngc7027_spectrum)\n",
        "plt.plot(guessed_xvals, [30]*len(guessed_wavelengths), 'x')\n",
        "plt.plot(improved_xval_guesses, [30]*len(guessed_wavelengths), '+');"
      ]
    },
    {
      "cell_type": "markdown",
      "metadata": {
        "id": "apEgbKkSy_1q"
      },
      "source": [
        "We only have three data points, but that is enough to fit a linear model and still have a free point to check that we got it close to right:"
      ]
    },
    {
      "cell_type": "code",
      "execution_count": null,
      "metadata": {
        "id": "JRJ47SXsy_1q"
      },
      "outputs": [],
      "source": [
        "linfitter = LinearLSQFitter()"
      ]
    },
    {
      "cell_type": "markdown",
      "metadata": {
        "id": "L1xUoi4Jy_1q"
      },
      "source": [
        "We use a `Linear1D` model because we will want to use its inverse later (other models are not invertible)"
      ]
    },
    {
      "cell_type": "code",
      "execution_count": null,
      "metadata": {
        "id": "259XNaeRy_1q"
      },
      "outputs": [],
      "source": [
        "wlmodel = Linear1D()\n",
        "linfit_wlmodel = linfitter(model=wlmodel, x=improved_xval_guesses, y=guessed_wavelengths)\n",
        "wavelengths = linfit_wlmodel(xaxis) * u.nm\n",
        "linfit_wlmodel"
      ]
    },
    {
      "cell_type": "markdown",
      "metadata": {
        "id": "aThnIWkVy_1t"
      },
      "source": [
        "Note this fitted slope: each pixel is about 0.1 nm (about 1 angstrom), and the wavelength increases to the left."
      ]
    },
    {
      "cell_type": "code",
      "execution_count": null,
      "metadata": {
        "id": "X6mpy-EUy_1t"
      },
      "outputs": [],
      "source": [
        "plt.plot(wavelengths, ngc7027_spectrum)\n",
        "plt.plot(guessed_wavelengths, [100]*len(guessed_wavelengths), 'x');"
      ]
    },
    {
      "cell_type": "markdown",
      "metadata": {
        "id": "uLw2urVUy_1t"
      },
      "source": [
        "We show our model $\\lambda(x)$ vs the input \"guesses\":"
      ]
    },
    {
      "cell_type": "code",
      "execution_count": null,
      "metadata": {
        "id": "8fXHaayWy_1t"
      },
      "outputs": [],
      "source": [
        "plt.plot(improved_xval_guesses, guessed_wavelengths, 'o')\n",
        "plt.plot(xaxis, wavelengths, '-')\n",
        "plt.ylabel(\"$\\lambda(x)$\")\n",
        "plt.xlabel(\"x (pixels)\")"
      ]
    },
    {
      "cell_type": "markdown",
      "metadata": {
        "id": "NNa4nXM0y_1t"
      },
      "source": [
        "Indeed, a linear model fit excellently!"
      ]
    }
  ],
  "metadata": {
    "celltoolbar": "Slideshow",
    "language_info": {
      "name": "python"
    },
    "rise": {
      "transition": "none"
    },
    "colab": {
      "provenance": []
    },
    "kernelspec": {
      "name": "python3",
      "display_name": "Python 3"
    }
  },
  "nbformat": 4,
  "nbformat_minor": 0
}